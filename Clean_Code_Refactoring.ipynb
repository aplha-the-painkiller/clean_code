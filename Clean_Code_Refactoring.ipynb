{
 "cells": [
  {
   "cell_type": "markdown",
   "id": "279c4ea9-cd14-4bfb-af7b-e26ca2c4a461",
   "metadata": {},
   "source": [
    "# **Clean code**"
   ]
  },
  {
   "cell_type": "markdown",
   "id": "7100acee-88ea-42ed-9442-acc0fcad0e7a",
   "metadata": {},
   "source": [
    "### Clean code refers to source code that is well-structured, easy to read, and simple to understand. It is code that not only works but is also written with the intention of being clean and maintainable. Clean code follows best practices, design principles, and coding standards, making it efficient for both the author and other developers who may work on it in the future.\n",
    "\n",
    "Clean code exhibits the following characteristics:\n",
    "\n",
    "1. **Readability:** Clean code is easy to read and understand. Variable names, function names, and comments are clear and descriptive.\n",
    "\n",
    "2. **Simplicity:** It is not overly complex. Clean code avoids unnecessary layers of abstraction and keeps logic straightforward.\n",
    "\n",
    "3. **Consistency:** Clean code follows a consistent style throughout the project. It adheres to the established coding standards, naming conventions, and formatting guidelines.\n",
    "\n",
    "4. **Efficiency:** It is optimized for performance and resource usage. Clean code avoids unnecessary computations or redundant operations.\n",
    "\n",
    "5. **Modularity:** Clean code is organized into small, manageable modules or functions. Each module has a single responsibility and can be easily reused.\n",
    "\n",
    "6. **Minimal Duplication:** Clean code minimizes code duplication. Repeated code is refactored into reusable functions or classes.\n",
    "\n",
    "7. **Good Documentation:** Clean code includes appropriate comments and docstrings to explain complex sections of code or the purpose of functions and classes.\n",
    "\n",
    "8. **Testability:** It is designed with testing in mind. Clean code is modular and loosely coupled, making it easier to write unit tests.\n",
    "\n",
    "9. **Error Handling:** Clean code handles errors gracefully. It includes proper error-checking and exception-handling mechanisms.\n",
    "\n",
    "10. **Version Control Friendly:** Clean code plays well with version control systems. Changes are incremental and logical, making it easier to track and merge code changes.\n",
    "\n",
    "11. **Collaboration:** Clean code is conducive to collaborative development. Other developers can quickly grasp the codebase and contribute effectively.\n",
    "\n",
    "Clean code is not only about producing code that works; it's about producing code that can be easily maintained and extended without introducing new issues. Developers often spend more time reading and understanding code than writing new code, so clean code is a crucial aspect of software development. It leads to more robust, reliable, and maintainable software systems.\n",
    "\n"
   ]
  },
  {
   "cell_type": "markdown",
   "id": "985cfb18-30ce-48ff-bc7e-517cbd8f7131",
   "metadata": {},
   "source": [
    "Clean code is a concept in software development that encompasses various principles and practices aimed at writing code that is easy to read, understand, and maintain. Below are some of the key clean code terms and their definitions:\n",
    "\n",
    "1. **Descriptive Naming:** Using meaningful and descriptive names for variables, functions, classes, and other code elements to make their purpose clear.\n",
    "\n",
    "2. **Indentation:** Properly formatting code with consistent indentation (typically spaces or tabs) to enhance readability and maintainability.\n",
    "\n",
    "3. **Comments:** Adding comments to explain complex sections of code or provide context for why certain decisions were made.\n",
    "\n",
    "4. **Functions:** Breaking down code into small, focused functions with a single responsibility, making them easier to test and reuse.\n",
    "\n",
    "5. **Readability:** Writing code in a way that is easy for other developers (including your future self) to understand without excessive mental effort.\n",
    "\n",
    "6. **Modularity:** Organizing code into modular components or modules, each responsible for a specific task or functionality.\n",
    "\n",
    "7. **DRY (Don't Repeat Yourself):** Avoiding code duplication by extracting common functionality into reusable functions, classes, or modules.\n",
    "\n",
    "8. **SRP (Single Responsibility Principle):** Ensuring that functions and classes have a single, well-defined responsibility or task.\n",
    "\n",
    "9. **YAGNI (You Ain't Gonna Need It):** Avoiding unnecessary complexity or features that are not currently required by the project's specifications.\n",
    "\n",
    "10. **KISS (Keep It Simple, Stupid):** Preferring simple and straightforward solutions over overly complex ones.\n",
    "\n",
    "11. **TDD (Test-Driven Development):** Writing tests before writing the actual code, which helps ensure that code meets its intended functionality and maintains correctness over time.\n",
    "\n",
    "12. **Refactoring:** Restructuring or rewriting existing code to improve its readability, maintainability, and efficiency without changing its external behavior.\n",
    "\n",
    "13. **Clean Architecture:** Designing software with separation of concerns and clear boundaries between different layers (e.g., presentation, business logic, data access) to make code more modular and maintainable.\n",
    "\n",
    "14. **Code Review:** A systematic process of reviewing code changes by peers or team members to catch issues, ensure adherence to coding standards, and improve code quality.\n",
    "\n",
    "15. **Version Control:** Using version control systems (e.g., Git) to track and manage changes to code, enabling collaboration and code history tracking.\n",
    "\n",
    "16. **Linting:** Using code analysis tools (linters) to automatically check code for style violations and potential issues.\n",
    "\n",
    "17. **Code Smells:** Indicators of potential problems in code, such as overly long functions, excessive commenting, or poor naming conventions.\n",
    "\n",
    "18. **Clean Code Principles:** Guiding principles and philosophies, such as SOLID principles, that provide a foundation for writing clean and maintainable code.\n",
    "\n",
    "\n",
    "19. **SOLID Principles:** A set of five design principles (Single Responsibility, Open/Closed, Liskov Substitution, Interface Segregation, and Dependency Inversion) that guide the design of clean and maintainable software.\n",
    "\n",
    "20. **Coupling:** The degree of interconnectedness between different components or modules in a system. Low coupling is preferred to make code more modular and easier to maintain.\n",
    "\n",
    "21. **Cohesion:** The measure of how closely related the functions within a module or class are to each other. High cohesion means that the functions within a module have a related purpose.\n",
    "\n",
    "22. **Inversion of Control (IoC):** A design principle where control over the flow of a program is shifted from the program itself to a container or framework. This promotes loose coupling and easier maintenance.\n",
    "\n",
    "23. **Unit Testing:** Writing small, focused tests for individual components or functions to verify their correctness and help maintain code quality.\n",
    "\n",
    "24. **Tight Coupling:** A situation where two or more components are highly dependent on each other, making the code harder to modify and maintain.\n",
    "\n",
    "25. **Loose Coupling:** A situation where components have minimal dependencies on each other, making it easier to modify or replace individual components without affecting the entire system.\n",
    "\n",
    "26. **Legacy Code:** Existing code that is often outdated, poorly documented, and difficult to modify or extend due to a lack of clean code practices.\n",
    "\n",
    "27. **Code Convention:** A set of agreed-upon rules and guidelines for writing code, including naming conventions, code formatting, and style preferences.\n",
    "\n",
    "28. **Code Smell:** An indicator of potential issues in code that may require refactoring, such as overly complex functions, excessive comments, or poor naming.\n",
    "\n",
    "29. **Technical Debt:** The cumulative cost of suboptimal design and code quality that accrues over time if code is not properly refactored and maintained.\n",
    "\n",
    "30. **Continuous Integration (CI):** A development practice where code changes are frequently integrated into a shared repository, allowing for automated testing and early detection of issues.\n",
    "\n",
    "31. **Continuous Delivery (CD):** A practice where code is continuously built, tested, and deployed to production environments, ensuring that it is always in a deployable state.\n",
    "\n",
    "32. **Composition over Inheritance:** Prefer composition over inheritance when defining classes and their relationships.\n",
    "\n",
    "33. **Input/Output Handling:** Improve input and output handling in your functions. Ensure that functions accept input as parameters and return output.\n",
    "\n",
    "34. **Consistency:** Maintain consistency in naming conventions, code formatting, and the use of programming idioms to make the code more uniform and understandable.\n",
    "\n",
    "35. **Use Docstrings:** Use docstrings to document classes, functions, and variables, providing comprehensive documentation.\n",
    "\n",
    "36. **Mind Size:** Mind Size refers to the size and complexity of functions or methods. Functions should be small and manageable.\n",
    "\n",
    "37. **Side Effect:** Side Effect occurs when a function or code modification changes the state or data outside of its scope. Functions should ideally avoid side effects for better maintainability.\n",
    "\n",
    "38. **Change is Local:** Change is Local suggests that code changes should have a limited impact, ideally confined within the same module or class, to minimize unintended consequences.\n",
    "\n",
    "39.  **OCP (Open/Closed Principle):** OCP states that software entities (classes, modules, functions) should be open for extension but closed for modification. You can add new functionality without altering existing code.\n",
    "\n",
    "\n",
    "These terms and concepts are part of the broader landscape of clean code and software development best practices. Applying these principles and practices can lead to more maintainable, reliable, and efficient software systems."
   ]
  },
  {
   "cell_type": "markdown",
   "id": "c4931cee-39b7-45e2-95cb-4aebad409d5d",
   "metadata": {},
   "source": [
    "# Clean code Instances"
   ]
  },
  {
   "cell_type": "markdown",
   "id": "6d1fea03-983c-4ca9-a0d5-1d352330e843",
   "metadata": {},
   "source": [
    "1) **Descriptive Naming:** Use meaningful and descriptive names for variables, functions, and classes. Avoid short and abstract names. In Python, semicolons are optional and are typically not used except to separate multiple statements on a single line."
   ]
  },
  {
   "cell_type": "code",
   "execution_count": 12,
   "id": "48cd4be1-e96a-4452-b30d-f521eef206cf",
   "metadata": {},
   "outputs": [],
   "source": [
    "# Bad\n",
    "x = 5\n",
    "y = 10\n",
    "\n",
    "# Good\n",
    "total_score = 5\n",
    "max_possible_score = 10\n"
   ]
  },
  {
   "cell_type": "markdown",
   "id": "d0ae5177-42aa-4d87-8802-15295cd75fc3",
   "metadata": {},
   "source": [
    "2) **Consistency:** Maintain consistency in naming conventions, code formatting, and the use of programming idioms to make the code more uniform and understandable."
   ]
  },
  {
   "cell_type": "code",
   "execution_count": 13,
   "id": "3c7981da-1dde-4b05-bc52-6da063826b8e",
   "metadata": {},
   "outputs": [],
   "source": [
    "# Inconsistent naming\n",
    "def calcTotalScore(scores):\n",
    "    pass\n",
    "\n",
    "# Consistent naming\n",
    "def calculateTotalScore(scores):\n",
    "    pass\n"
   ]
  },
  {
   "cell_type": "markdown",
   "id": "61016c9c-0434-49d3-8063-a98fb6e1bdf7",
   "metadata": {},
   "source": [
    "3) **Indentation:** Code should be properly indented for readability. In Python, use 4 spaces or a tab for indentation."
   ]
  },
  {
   "cell_type": "code",
   "execution_count": null,
   "id": "c1837e93-8db6-4a4a-9abb-a85f674990d5",
   "metadata": {},
   "outputs": [],
   "source": [
    "# Bad\n",
    "if x > 5:\n",
    "total_score = total_score + 1\n",
    "\n",
    "# Good\n",
    "if x > 5:\n",
    "    total_score += 1\n"
   ]
  },
  {
   "cell_type": "markdown",
   "id": "841f38f3-6d95-451b-9671-e3d6d1705876",
   "metadata": {},
   "source": [
    "4) **Use Comments:** Use comments to explain code and document the functionality of different parts of your code."
   ]
  },
  {
   "cell_type": "code",
   "execution_count": 14,
   "id": "94df9cbc-ec7c-4dfc-a4f5-e48aca9f5db6",
   "metadata": {},
   "outputs": [],
   "source": [
    "# Bad\n",
    "x = x + 1  # Increase the value of x\n",
    "\n",
    "# Good\n",
    "x += 1  # Increment the value of x as a counter\n"
   ]
  },
  {
   "cell_type": "markdown",
   "id": "df7744a7-35aa-41eb-9ff8-e0ea5777071c",
   "metadata": {},
   "source": [
    "5) **Use Docstrings:** Use docstrings to document classes, functions, and variables, providing comprehensive documentation."
   ]
  },
  {
   "cell_type": "code",
   "execution_count": 15,
   "id": "3300e4d1-4a92-4e52-aebf-1ccb7bc991ee",
   "metadata": {},
   "outputs": [],
   "source": [
    "def calculateTotalScore(scores):\n",
    "    \"\"\"\n",
    "    Calculate the total score from a list of individual scores.\n",
    "\n",
    "    Args:\n",
    "        scores (list): A list of numeric scores.\n",
    "\n",
    "    Returns:\n",
    "        int: The total score.\n",
    "\n",
    "    Example:\n",
    "        >>> calculateTotalScore([85, 90, 78])\n",
    "        253\n",
    "    \"\"\"\n",
    "    total = 0\n",
    "    for score in scores:\n",
    "        total += score\n",
    "    return total\n"
   ]
  },
  {
   "cell_type": "markdown",
   "id": "b2f15ec1-da0c-4ef0-8606-c4bac7d8f6ab",
   "metadata": {},
   "source": [
    "6) **Functions:** Divide your code into smaller functions to promote reusability and maintainability. functions must start with a verb because they are made to do something."
   ]
  },
  {
   "cell_type": "code",
   "execution_count": null,
   "id": "c3185769-55ea-4646-a336-bf5dbbfa9ec9",
   "metadata": {},
   "outputs": [],
   "source": [
    "# Bad\n",
    "result = 0\n",
    "for num in numbers:\n",
    "    result += num\n",
    "\n",
    "# Good\n",
    "def calculate_sum(numbers):\n",
    "    result = 0\n",
    "    for num in numbers:\n",
    "        result += num\n",
    "    return result\n"
   ]
  },
  {
   "cell_type": "markdown",
   "id": "e98fbf2a-d4f8-4505-ac50-73004ecaba21",
   "metadata": {},
   "source": [
    "7) **Readable Conditions:** Make conditions easy to read and understand."
   ]
  },
  {
   "cell_type": "code",
   "execution_count": null,
   "id": "d87b1abc-6772-4225-86e2-66b8fea97ec4",
   "metadata": {},
   "outputs": [],
   "source": [
    "# Bad\n",
    "if age >= 18 and age <= 65 and not is_student:\n",
    "\n",
    "# Good\n",
    "if 18 <= age <= 65 and not is_student:\n"
   ]
  },
  {
   "cell_type": "markdown",
   "id": "d7276fb3-fe6b-44c6-868b-83e0b940c61e",
   "metadata": {},
   "source": [
    "8) **Pythonic Code:** Follow Python's idioms and principles. Prefer list comprehensions and built-in functions like map and filter over explicit loops. "
   ]
  },
  {
   "cell_type": "code",
   "execution_count": null,
   "id": "e54446f7-c1ad-4f85-8028-5451c69a981a",
   "metadata": {},
   "outputs": [],
   "source": [
    "# Bad\n",
    "result = []\n",
    "for num in numbers:\n",
    "    if num % 2 == 0:\n",
    "        result.append(num)\n",
    "\n",
    "# Good\n",
    "result = [num for num in numbers if num % 2 == 0]\n"
   ]
  },
  {
   "cell_type": "markdown",
   "id": "d7abcab6-f56e-4c92-8e5c-538b774df7fd",
   "metadata": {},
   "source": [
    "9) **Exception Handling:** Use try and except blocks to handle exceptions gracefully."
   ]
  },
  {
   "cell_type": "markdown",
   "id": "e2eb1077-4d7c-462b-9302-54c91fc4b643",
   "metadata": {},
   "source": [
    "In Python, `try` and `except` are used as code blocks for managing errors and exceptions. These constructs allow you to execute code that may raise errors, and in case of an error, you can take appropriate actions.\n",
    "\n",
    "Here are explanations of `try` and `except` in Python:\n",
    "\n",
    "1) **`try` Block**: At the beginning of your code, where you encounter the `try` block, you place the code that you want to execute. This section may potentially raise errors.\n",
    "\n",
    "    ```python\n",
    "    try:\n",
    "        # Code that may raise an error\n",
    "        result = 10 / 0\n",
    "    except:\n",
    "        # This block runs if an error is raised\n",
    "        print(\"An error occurred.\")\n",
    "    ```\n",
    "\n",
    "2. **`except` Block**: This block is executed if an error is raised within the `try` block. Inside the `except` block, you can perform appropriate actions to handle and recover from the error. You can differentiate errors based on their types.\n",
    "\n",
    "    ```python\n",
    "    try:\n",
    "        result = 10 / 0\n",
    "    except ZeroDivisionError:\n",
    "        # This block runs if a division by zero error is raised\n",
    "        print(\"Division by zero is not allowed.\")\n",
    "    except Exception as e:\n",
    "        # This block runs for general errors, and the raised error is available as variable 'e'\n",
    "        print(\"An error occurred:\", e)\n",
    "    ```\n",
    "\n",
    "3. **`else` Block (Optional)**: You can add an `else` block to the `try` and `except` constructs, which is executed if no error is raised.\n",
    "\n",
    "    ```python\n",
    "    try:\n",
    "        result = 10 / 2\n",
    "    except ZeroDivisionError:\n",
    "        print(\"Division by zero is not allowed.\")\n",
    "    else:\n",
    "        # This block runs if no error is raised\n",
    "        print(\"Result:\", result)\n",
    "    ```\n",
    "\n",
    "4. **`finally` Block (Optional)**: The `finally` block is executed in any case, whether an error is raised or not, and even if you don't manipulate the error. It's typically used for final operations like closing files or database connections.\n",
    "\n",
    "    ```python\n",
    "    try:\n",
    "        result = 10 / 2\n",
    "    except ZeroDivisionError:\n",
    "        print(\"Division by zero is not allowed.\")\n",
    "    else:\n",
    "        print(\"Result:\", result)\n",
    "    finally:\n",
    "        # This block runs in any case\n",
    "        print(\"Cleaning up resources.\")\n",
    "    ```\n",
    "\n",
    "Using `try` and `except` statements, you can protect your Python programs from propagating errors, handle and recover from exceptions, and prevent unintended crashes due to errors."
   ]
  },
  {
   "cell_type": "code",
   "execution_count": 5,
   "id": "cb34a709-a49d-48b3-a372-f261da93e588",
   "metadata": {},
   "outputs": [],
   "source": [
    "# Bad\n",
    "if x != 0:\n",
    "    result = y / x\n",
    "\n",
    "# Good\n",
    "try:\n",
    "    result = y / x\n",
    "except ZeroDivisionError:\n",
    "    # Handle division by zero\n",
    "    result = None\n"
   ]
  },
  {
   "cell_type": "markdown",
   "id": "b99b90c5-3df9-4d48-b421-57001396cc89",
   "metadata": {},
   "source": [
    "10) **DRY (Don't Repeat Yourself):** The DRY principle emphasizes avoiding code duplication. If a piece of code is used in multiple places, refactor it into a function or external variable."
   ]
  },
  {
   "cell_type": "code",
   "execution_count": 9,
   "id": "feff5ce5-3ca0-43af-9620-6db4119b6505",
   "metadata": {},
   "outputs": [],
   "source": [
    "# Bad\n",
    "def calculateTotalScore(scores):\n",
    "    total = 0\n",
    "    for score in scores:\n",
    "        total += score\n",
    "\n",
    "def calculateAverageScore(scores):\n",
    "    total = 0\n",
    "    for score in scores:\n",
    "        total += score\n",
    "    average = total / len(scores)\n",
    "\n",
    "# Good\n",
    "def calculateTotalAndAverage(scores):\n",
    "    total = 0\n",
    "    for score in scores:\n",
    "        total += score\n",
    "    average = total / len(scores)\n",
    "    return total, average\n"
   ]
  },
  {
   "cell_type": "markdown",
   "id": "7253726a-6ef9-42ab-8030-098594b46548",
   "metadata": {},
   "source": [
    "11) **KISS (Keep It Simple, Stupid):** KISS encourages keeping code and solutions simple rather than making them overly complex. It promotes straightforward and easy-to-understand code."
   ]
  },
  {
   "cell_type": "code",
   "execution_count": null,
   "id": "2f716480-457e-4ade-90b0-c5ab2626268d",
   "metadata": {},
   "outputs": [],
   "source": [
    "# Complex way to calculate the sum of even numbers in a list\n",
    "def complex_sum_even_numbers(numbers):\n",
    "    result = 0\n",
    "    for num in numbers:\n",
    "        if num % 2 == 0:\n",
    "            result += num\n",
    "    return result\n",
    "\n",
    "# Simpler way using a built-in function\n",
    "def simple_sum_even_numbers(numbers):\n",
    "    return sum(num for num in numbers if num % 2 == 0)\n"
   ]
  },
  {
   "cell_type": "markdown",
   "id": "b60300e9-2fd3-4d47-8bf4-197b87fc9b0b",
   "metadata": {},
   "source": [
    "12) **YAGNI (You Ain't Gonna Need It):** YAGNI advises against adding features or code that are not currently needed. It promotes implementing only what is necessary at the moment."
   ]
  },
  {
   "cell_type": "code",
   "execution_count": 16,
   "id": "561aa1e1-455b-4223-98ab-3325f2797ada",
   "metadata": {},
   "outputs": [],
   "source": [
    "# Unnecessary code for a feature that is not needed\n",
    "def unnecessary_feature():\n",
    "    # Code that implements a feature that is not currently used\n",
    "    pass\n",
    "\n",
    "# Only implement what is currently required\n",
    "def required_feature():\n",
    "    # Code for the feature that is needed now\n",
    "    pass\n"
   ]
  },
  {
   "cell_type": "markdown",
   "id": "fc8da4af-67ca-40c2-b578-1bffd749c19a",
   "metadata": {},
   "source": [
    "13) **SRP (Single Responsibility Principle):** Each function and class should have a single primary responsibility and should only do that."
   ]
  },
  {
   "cell_type": "code",
   "execution_count": 17,
   "id": "fc72dede-9eb9-4f64-8437-77df16f37f1a",
   "metadata": {},
   "outputs": [],
   "source": [
    "# Bad\n",
    "class Student:\n",
    "    def calculateTotalScore(self):\n",
    "        # Calculate total score\n",
    "        pass\n",
    "\n",
    "    def sendEmail(self):\n",
    "        # Send email to student\n",
    "        pass\n",
    "\n",
    "# Good\n",
    "class Student:\n",
    "    def calculateTotalScore(self):\n",
    "        # Calculate total score\n",
    "        pass\n",
    "\n",
    "class EmailSender:\n",
    "    def sendEmail(self, recipient):\n",
    "        # Send email to recipient\n",
    "        pass\n"
   ]
  },
  {
   "cell_type": "markdown",
   "id": "17a64d29-ae4b-4dd3-a6f5-955ce8db044c",
   "metadata": {},
   "source": [
    "14) **Coupling:** Coupling refers to the degree of interdependence between different parts of a system. High coupling can reduce flexibility and make code changes more challenging."
   ]
  },
  {
   "cell_type": "code",
   "execution_count": 18,
   "id": "2039ce41-8c61-4260-868a-0b9e68efa92d",
   "metadata": {},
   "outputs": [],
   "source": [
    "# Bad (High coupling example)\n",
    "class HighCouplingExample:\n",
    "    def __init__(self, data):\n",
    "        self.data = data\n",
    "\n",
    "    def process_data(self):\n",
    "        # Code that directly accesses external resources\n",
    "        result = ExternalService.process(self.data)\n",
    "        # ...\n",
    "\n",
    "# Good (Low coupling example)\n",
    "class LowCouplingExample:\n",
    "    def __init__(self, data, service):\n",
    "        self.data = data\n",
    "        self.service = service\n",
    "\n",
    "    def process_data(self):\n",
    "        # Code that uses a service with reduced coupling\n",
    "        result = self.service.process(self.data)\n",
    "        # ...\n"
   ]
  },
  {
   "cell_type": "markdown",
   "id": "65294e78-dc57-4d3a-877f-e7c8defc3111",
   "metadata": {},
   "source": [
    "15) **Cohesion:** Cohesion measures how closely related functions within a module or class are to each other. High cohesion means that functions have a related purpose."
   ]
  },
  {
   "cell_type": "code",
   "execution_count": null,
   "id": "2584d6da-2ba5-4c06-975b-1e6cc0727d15",
   "metadata": {},
   "outputs": [],
   "source": [
    "# Bad (Low cohesion example)\n",
    "class LowCohesionExample:\n",
    "    def __init__(self, data):\n",
    "        self.data = data\n",
    "\n",
    "    def process_data(self):\n",
    "        # Code that handles data processing and UI presentation\n",
    "        # ...\n",
    "\n",
    "# Good (High cohesion example)\n",
    "class HighCohesionExample:\n",
    "    def __init__(self, data_processor, ui_renderer):\n",
    "        self.data_processor = data_processor\n",
    "        self.ui_renderer = ui_renderer\n",
    "\n",
    "    def process_and_render_data(self):\n",
    "        data = self.data_processor.process_data()\n",
    "        self.ui_renderer.render(data)\n"
   ]
  },
  {
   "cell_type": "markdown",
   "id": "689e08fb-db8e-457d-8a6c-8133eeb9ca1d",
   "metadata": {},
   "source": [
    "16) **Mind Size:** Mind Size refers to the size and complexity of functions or methods. Functions should be small and manageable."
   ]
  },
  {
   "cell_type": "code",
   "execution_count": null,
   "id": "269a2211-90be-47fc-a29a-6304aa723f84",
   "metadata": {},
   "outputs": [],
   "source": [
    "# A function with a large mind size\n",
    "def complex_function(data):\n",
    "    # Lots of code, branching, and complexity\n",
    "    if condition1:\n",
    "        # ...\n",
    "    elif condition2:\n",
    "        # ...\n",
    "    else:\n",
    "        # ...\n",
    "\n",
    "# A function with a small mind size\n",
    "def simple_function(data):\n",
    "    # Simple and focused code\n",
    "    # ...\n"
   ]
  },
  {
   "cell_type": "markdown",
   "id": "5f57514f-7aa0-4cc1-8e82-35260e163921",
   "metadata": {},
   "source": [
    "17) **Side Effect:** Side Effect occurs when a function or code modification changes the state or data outside of its scope. Functions should ideally avoid side effects for better maintainability."
   ]
  },
  {
   "cell_type": "code",
   "execution_count": 21,
   "id": "3fa8bdf7-0b9d-4866-bc3f-41da9c764db6",
   "metadata": {},
   "outputs": [],
   "source": [
    "# Function with a side effect (modifying a global variable)\n",
    "total = 0\n",
    "\n",
    "def add_to_total(value):\n",
    "    global total\n",
    "    total += value\n",
    "\n",
    "# Function without side effects\n",
    "def add_values(a, b):\n",
    "    return a + b\n"
   ]
  },
  {
   "cell_type": "markdown",
   "id": "62bf73f6-d3f3-4294-bcd2-f809567e115b",
   "metadata": {},
   "source": [
    "18) **Change is Local:** Change is Local suggests that code changes should have a limited impact, ideally confined within the same module or class, to minimize unintended consequences."
   ]
  },
  {
   "cell_type": "code",
   "execution_count": null,
   "id": "a5cd9a86-3b85-40ba-b531-a4c9df6ec8dd",
   "metadata": {},
   "outputs": [],
   "source": [
    "# Changes affecting multiple modules\n",
    "def complex_function():\n",
    "    # Code in this function impacts other parts of the codebase\n",
    "    # ...\n",
    "\n",
    "# Changes localized within the same module\n",
    "class ModuleWithLocalChanges:\n",
    "    def __init__(self):\n",
    "        self.data = []\n",
    "\n",
    "    def add_data(self, item):\n",
    "        self.data.append(item)\n",
    "        # Changes to data do not affect other modules\n",
    "        # ...\n"
   ]
  },
  {
   "cell_type": "markdown",
   "id": "42ae5b30-ae29-4b69-9313-cdd277491562",
   "metadata": {},
   "source": [
    "19) **OCP (Open/Closed Principle):** OCP states that software entities (classes, modules, functions) should be open for extension but closed for modification. You can add new functionality without altering existing code."
   ]
  },
  {
   "cell_type": "code",
   "execution_count": 23,
   "id": "3178e7f2-5258-4178-8f2f-8220e7428fed",
   "metadata": {},
   "outputs": [],
   "source": [
    "# Violating OCP: Modifying existing code\n",
    "class Rectangle:\n",
    "    def __init__(self, width, height):\n",
    "        self.width = width\n",
    "        self.height = height\n",
    "\n",
    "# Extending without modifying existing code (OCP compliant)\n",
    "class Circle:\n",
    "    def __init__(self, radius):\n",
    "        self.radius = radius\n",
    "\n",
    "# Additional code for handling circles\n"
   ]
  },
  {
   "cell_type": "markdown",
   "id": "15d791d2-55c5-4117-9a98-2e1d14b985bf",
   "metadata": {},
   "source": [
    "20) **Composition over Inheritance:** Prefer composition over inheritance when defining classes and their relationships."
   ]
  },
  {
   "cell_type": "code",
   "execution_count": 10,
   "id": "c99fa1a5-a2c9-4a29-8eb8-802f6bf24df4",
   "metadata": {},
   "outputs": [],
   "source": [
    "# Bad (using inheritance)\n",
    "class Bird:\n",
    "    def fly(self):\n",
    "        pass\n",
    "\n",
    "class Sparrow(Bird):\n",
    "    def chirp(self):\n",
    "        pass\n",
    "\n",
    "# Good (using composition)\n",
    "class Bird:\n",
    "    def fly(self):\n",
    "        pass\n",
    "\n",
    "class Sparrow:\n",
    "    def __init__(self):\n",
    "        self.bird = Bird()\n",
    "\n",
    "    def chirp(self):\n",
    "        pass\n"
   ]
  },
  {
   "cell_type": "markdown",
   "id": "1396f390-e548-4de8-ac0b-1f1e2368782f",
   "metadata": {},
   "source": [
    "21) **Input/Output Handling:** Improve input and output handling in your functions. Ensure that functions accept input as parameters and return output."
   ]
  },
  {
   "cell_type": "code",
   "execution_count": 11,
   "id": "b9282232-f68f-4f7d-877c-93eb97d0fafb",
   "metadata": {},
   "outputs": [],
   "source": [
    "# Bad\n",
    "def calculateTotalScore():\n",
    "    # Accesses global variables directly\n",
    "    pass\n",
    "\n",
    "# Good\n",
    "def calculateTotalScore(scores):\n",
    "    # Accepts input as a parameter and returns output\n",
    "    total = 0\n",
    "    for score in scores:\n",
    "        total += score\n",
    "    return total\n"
   ]
  },
  {
   "cell_type": "markdown",
   "id": "74ed0f14-c712-4b4d-a699-094c2f87f779",
   "metadata": {},
   "source": [
    "22) **Testing and Testability:** Write tests for your code to ensure it works correctly. For each piece of code, write corresponding tests.in Pyhton you can use libreries for Testing like Pytest, Unittest, doctest,Nose2."
   ]
  },
  {
   "cell_type": "code",
   "execution_count": 25,
   "id": "26b14d7d-7383-4510-91e2-6059a4d727fd",
   "metadata": {},
   "outputs": [],
   "source": [
    "def add(x, y):\n",
    "    return x + y\n",
    "\n",
    "def test_add():\n",
    "    assert add(1, 2) == 3\n",
    "    assert add(-1, 1) == 0\n"
   ]
  },
  {
   "cell_type": "markdown",
   "id": "990e4a8c-f0bc-488d-8c10-261df5369d4f",
   "metadata": {},
   "source": [
    "## Naming Conventions"
   ]
  },
  {
   "cell_type": "markdown",
   "id": "49dfc706-b47e-41d1-b8d7-2174d868e1f9",
   "metadata": {},
   "source": [
    "Certainly! Here are the explanations of various naming conventions in English with examples:\n",
    "\n",
    "1. **camelCase:** In this naming convention, words are joined together, and each word begins with a lowercase letter, with subsequent words capitalized. This convention is commonly used for naming variables and functions.\n",
    "\n",
    "   Examples:\n",
    "   - `myVariableName`\n",
    "   - `calculateTotalScore`\n",
    "   - `numberOfStudents`\n",
    "\n",
    "2. **PascalCase:** In this naming convention, words are joined together, and every word starts with an uppercase letter. This convention is typically used for naming classes.\n",
    "\n",
    "   Examples:\n",
    "   - `MyClassName`\n",
    "   - `CalculateTotalScore`\n",
    "   - `StudentRecord`\n",
    "\n",
    "3. **Kebab-Case:** In this naming convention, words are separated by hyphens (-), and all letters are in lowercase. This convention is often used for naming files or URLs.\n",
    "\n",
    "   Examples:\n",
    "   - `my-variable-name`\n",
    "   - `calculate-total-score`\n",
    "   - `student-record`\n",
    "\n",
    "4. **Snake_Case:** In this naming convention, words are separated by underscores (_) and all letters are in lowercase. This convention is also commonly used for naming variables and functions.\n",
    "\n",
    "   Examples:\n",
    "   - `my_variable_name`\n",
    "   - `calculate_total_score`\n",
    "   - `number_of_students`\n",
    "\n",
    "5. **Constant** constant variables are always Capitalized.\n",
    "\n",
    "    Examples:\n",
    "   - `MESSAGE = \"Hello World\"`\n",
    "\n",
    "7. **Private Method** In the classes , Private Methods are always started with _underscore\n",
    "\n",
    "   Examples: \n",
    "   - `_handleAddToAge()`\n",
    "\n",
    "Additionally, in some programming languages like JavaScript, Upper_Snake_Case or SCREAMING_SNAKE_CASE is used for defining constants and enums. These conventions typically involve uppercase letters and words separated by underscores (_).\n",
    "\n",
    "The key point is to adhere to the standards and agreements of your specific project. Using appropriate and consistent naming conventions in your code helps improve code readability and maintainability."
   ]
  },
  {
   "cell_type": "markdown",
   "id": "dc5beb9b-09a8-41f5-b5f4-a9d4149ce0ec",
   "metadata": {},
   "source": [
    "## What is the Refactoring?"
   ]
  },
  {
   "cell_type": "markdown",
   "id": "3cb748cf-1a90-4495-ac9c-683ce3db8eed",
   "metadata": {},
   "source": [
    "Refactoring is the process of restructuring or rewriting parts of code without changing the software's functionality. The main goal of refactoring is to improve code readability, maintainability, and overall performance, but the changes made during refactoring should not affect the software's behavior.\n",
    "\n",
    "Typically, during the software development process, code is written, and as requirements change or new features are added, there may be a need to improve the code and its structure. In such cases, instead of haphazardly adding or changing code, refactoring is performed using principles such as breaking code into smaller functions, abstracting common code into new functions, identifying and removing duplicated code, optimizing solutions, and more.\n",
    "\n",
    "The benefits of refactoring include:\n",
    "\n",
    "- **Improved Code Readability:** Cleaner and better-organized code is produced.\n",
    "- **Reduced Code Duplication:** Similar functions and code sections are moved to separate utility functions.\n",
    "- **Reduced Complexity:** The code is broken into smaller sections, making it easier to understand.\n",
    "- **Enhanced Testability:** Cleaner code facilitates creating and running tests.\n",
    "- **Bug Removal:** Bugs and issues that may exist in the code are identified and fixed during refactoring.\n",
    "\n",
    "Let's look at an example in Python:\n",
    "\n",
    "Suppose you have a function that calculates the total price of items in a shopping cart, but it's become long and hard to read:\n",
    "\n",
    "```python\n",
    "def calculate_total_price(cart_items):\n",
    "    total = 0\n",
    "    for item in cart_items:\n",
    "        if item.stock > 0:\n",
    "            total += item.price\n",
    "    return total\n",
    "```\n",
    "\n",
    "You decide to refactor it into smaller, more understandable functions:\n",
    "\n",
    "```python\n",
    "def is_item_available(item):\n",
    "    return item.stock > 0\n",
    "\n",
    "def calculate_total_price(cart_items):\n",
    "    return sum(item.price for item in cart_items if is_item_available(item))\n",
    "```\n",
    "\n",
    "In this refactoring example, you've created a new function `is_item_available` to check if an item is in stock, and the `calculate_total_price` function is now cleaner and easier to understand."
   ]
  },
  {
   "cell_type": "markdown",
   "id": "88c9be08-c9df-4d49-a230-5dcccdbc5298",
   "metadata": {},
   "source": [
    "### References:\n",
    "1) M.Fowler et al - Refactoring - Improving the Design of Existing\n",
    "2) Clean Code A Handbook of Agile Software Craftsmanship by Robert C. Martin-Pearson\n"
   ]
  },
  {
   "cell_type": "markdown",
   "id": "a7f6b1cc-1b72-4a67-bacb-4982cbe5cbc0",
   "metadata": {},
   "source": [
    "*Written by Kasra Tehrani*  \n",
    "\n",
    "*https://www.linkedin.com/in/kasra-naderi-tehrani-a298b521b/* \n",
    "\n",
    "*https://github.com/kasra-python* \n",
    "\n",
    "*kasra.n.tehrani@gmail.com* \n",
    "\n",
    "*Good luck!*"
   ]
  }
 ],
 "metadata": {
  "kernelspec": {
   "display_name": "Python 3 (ipykernel)",
   "language": "python",
   "name": "python3"
  },
  "language_info": {
   "codemirror_mode": {
    "name": "ipython",
    "version": 3
   },
   "file_extension": ".py",
   "mimetype": "text/x-python",
   "name": "python",
   "nbconvert_exporter": "python",
   "pygments_lexer": "ipython3",
   "version": "3.11.3"
  }
 },
 "nbformat": 4,
 "nbformat_minor": 5
}
